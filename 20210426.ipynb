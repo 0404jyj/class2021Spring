{
  "nbformat": 4,
  "nbformat_minor": 0,
  "metadata": {
    "colab": {
      "name": "20210426.ipynb",
      "provenance": [],
      "authorship_tag": "ABX9TyOI+aYPYuZB/Gc+J5cR7ibb",
      "include_colab_link": true
    },
    "kernelspec": {
      "name": "python3",
      "display_name": "Python 3"
    },
    "language_info": {
      "name": "python"
    }
  },
  "cells": [
    {
      "cell_type": "markdown",
      "metadata": {
        "id": "view-in-github",
        "colab_type": "text"
      },
      "source": [
        "<a href=\"https://colab.research.google.com/github/0404jyj/class2021Spring/blob/main/20210426.ipynb\" target=\"_parent\"><img src=\"https://colab.research.google.com/assets/colab-badge.svg\" alt=\"Open In Colab\"/></a>"
      ]
    },
    {
      "cell_type": "code",
      "metadata": {
        "id": "8U7DlpKjx-yI"
      },
      "source": [
        "%matplotlib inline\n",
        "from matplotlib import pyplot as plt\n",
        "import IPython.display as ipd\n",
        "import numpy as np\n",
        "from scipy.signal import lfilter"
      ],
      "execution_count": 1,
      "outputs": []
    },
    {
      "cell_type": "code",
      "metadata": {
        "id": "4q7NcBCQyUub"
      },
      "source": [
        "amp = 1.0   \n",
        "sr = 10000     \n",
        "dur = 0.5    \n",
        "freq = 300.0"
      ],
      "execution_count": 2,
      "outputs": []
    },
    {
      "cell_type": "code",
      "metadata": {
        "id": "AK9F8aNZycyf"
      },
      "source": [
        "t = np.arange(1, sr * dur+1)/sr"
      ],
      "execution_count": 3,
      "outputs": []
    },
    {
      "cell_type": "code",
      "metadata": {
        "id": "Xyi5Mg-CyhJi"
      },
      "source": [
        "theta = t * 2*np.pi * freq"
      ],
      "execution_count": 4,
      "outputs": []
    },
    {
      "cell_type": "code",
      "metadata": {
        "id": "xBFZ28FcyjkZ"
      },
      "source": [
        "s = np.sin(theta)"
      ],
      "execution_count": 5,
      "outputs": []
    },
    {
      "cell_type": "code",
      "metadata": {
        "id": "KTd37lmYueDg"
      },
      "source": [
        "def phasor(amp,sr,dur,freq):\n",
        "  return s, theta, t"
      ],
      "execution_count": 6,
      "outputs": []
    },
    {
      "cell_type": "code",
      "metadata": {
        "id": "wsr2Qh0RumgI",
        "outputId": "c7374ed2-0f7c-4134-d3f9-8dde65661944",
        "colab": {
          "base_uri": "https://localhost:8080/"
        }
      },
      "source": [
        "s= phasor(1,10000,0.5,200.0)\n",
        "print(s)"
      ],
      "execution_count": 7,
      "outputs": [
        {
          "output_type": "stream",
          "text": [
            "(array([ 1.87381315e-01,  3.68124553e-01,  5.35826795e-01, ...,\n",
            "       -3.68124553e-01, -1.87381315e-01, -5.09502587e-14]), array([1.88495559e-01, 3.76991118e-01, 5.65486678e-01, ...,\n",
            "       9.42100805e+02, 9.42289301e+02, 9.42477796e+02]), array([1.000e-04, 2.000e-04, 3.000e-04, ..., 4.998e-01, 4.999e-01,\n",
            "       5.000e-01]))\n"
          ],
          "name": "stdout"
        }
      ]
    }
  ]
}