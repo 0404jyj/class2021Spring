{
  "nbformat": 4,
  "nbformat_minor": 0,
  "metadata": {
    "colab": {
      "name": "Untitled1.ipynb",
      "provenance": [],
      "authorship_tag": "ABX9TyNw8GDqNZhEyHPZtcMsyx3z",
      "include_colab_link": true
    },
    "kernelspec": {
      "name": "python3",
      "display_name": "Python 3"
    }
  },
  "cells": [
    {
      "cell_type": "markdown",
      "metadata": {
        "id": "view-in-github",
        "colab_type": "text"
      },
      "source": [
        "<a href=\"https://colab.research.google.com/github/0404jyj/class2021Spring/blob/main/20210317.ipynb\" target=\"_parent\"><img src=\"https://colab.research.google.com/assets/colab-badge.svg\" alt=\"Open In Colab\"/></a>"
      ]
    },
    {
      "cell_type": "code",
      "metadata": {
        "colab": {
          "base_uri": "https://localhost:8080/"
        },
        "id": "OtuMOdBkuPF_",
        "outputId": "7ef47f3c-f4b9-4caf-a2b0-db6dbe287300"
      },
      "source": [
        "for i in range(1,9) :\r\n",
        "  for k in range(1,9) :\r\n",
        "    if k > 5 :\r\n",
        "      print(i+k)"
      ],
      "execution_count": 1,
      "outputs": [
        {
          "output_type": "stream",
          "text": [
            "7\n",
            "8\n",
            "9\n",
            "8\n",
            "9\n",
            "10\n",
            "9\n",
            "10\n",
            "11\n",
            "10\n",
            "11\n",
            "12\n",
            "11\n",
            "12\n",
            "13\n",
            "12\n",
            "13\n",
            "14\n",
            "13\n",
            "14\n",
            "15\n",
            "14\n",
            "15\n",
            "16\n"
          ],
          "name": "stdout"
        }
      ]
    },
    {
      "cell_type": "code",
      "metadata": {
        "colab": {
          "base_uri": "https://localhost:8080/"
        },
        "id": "ilcRpC4dvgoD",
        "outputId": "cc9b45f7-5fe0-4ef0-fa4e-4f5df00fe76f"
      },
      "source": [
        "a = ['hello', 'korea', 'yonsei', 'good', 'bad']\r\n",
        "b = [i for i in a if len(i) ==5]\r\n",
        "b"
      ],
      "execution_count": 3,
      "outputs": [
        {
          "output_type": "execute_result",
          "data": {
            "text/plain": [
              "['hello', 'korea']"
            ]
          },
          "metadata": {
            "tags": []
          },
          "execution_count": 3
        }
      ]
    },
    {
      "cell_type": "code",
      "metadata": {
        "id": "CNCwDB62wyUh"
      },
      "source": [
        ""
      ],
      "execution_count": null,
      "outputs": []
    }
  ]
}