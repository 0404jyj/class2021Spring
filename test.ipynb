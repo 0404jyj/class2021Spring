{
  "nbformat": 4,
  "nbformat_minor": 0,
  "metadata": {
    "colab": {
      "name": "test.ipynb",
      "provenance": [],
      "authorship_tag": "ABX9TyOW+GKOeydHVH4lhRolD73F",
      "include_colab_link": true
    },
    "kernelspec": {
      "name": "python3",
      "display_name": "Python 3"
    }
  },
  "cells": [
    {
      "cell_type": "markdown",
      "metadata": {
        "id": "view-in-github",
        "colab_type": "text"
      },
      "source": [
        "<a href=\"https://colab.research.google.com/github/0404jyj/class2021Spring/blob/main/test.ipynb\" target=\"_parent\"><img src=\"https://colab.research.google.com/assets/colab-badge.svg\" alt=\"Open In Colab\"/></a>"
      ]
    },
    {
      "cell_type": "code",
      "metadata": {
        "id": "UjDJmGcxT4Lk"
      },
      "source": [
        ""
      ],
      "execution_count": null,
      "outputs": []
    },
    {
      "cell_type": "markdown",
      "metadata": {
        "id": "x9e_-dHnVdZO"
      },
      "source": [
        "3/8\r\n",
        "지금 사용하고 있는 이 형태 자체를 주피터 노트북이라고 부른다. 하나는 코드로, 하나는 텍스트로 형성된다."
      ]
    },
    {
      "cell_type": "markdown",
      "metadata": {
        "id": "sAr39RK5UxzA"
      },
      "source": [
        "# 오늘 배운 것:\r\n",
        "**github 계정 만들기, login 해서 repository 만들기 (이름은 class2021Spring)**\r\n",
        "\r\n",
        "\r\n",
        "\r\n",
        "1.   python\r\n",
        "2.   markdown\r\n"
      ]
    }
  ]
}