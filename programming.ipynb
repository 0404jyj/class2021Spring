{
  "nbformat": 4,
  "nbformat_minor": 0,
  "metadata": {
    "colab": {
      "name": "programming.ipynb",
      "provenance": [],
      "authorship_tag": "ABX9TyMFWo0emKQ/lReqEPTOeLH8",
      "include_colab_link": true
    },
    "kernelspec": {
      "name": "python3",
      "display_name": "Python 3"
    }
  },
  "cells": [
    {
      "cell_type": "markdown",
      "metadata": {
        "id": "view-in-github",
        "colab_type": "text"
      },
      "source": [
        "<a href=\"https://colab.research.google.com/github/0404jyj/class2021Spring/blob/main/programming.ipynb\" target=\"_parent\"><img src=\"https://colab.research.google.com/assets/colab-badge.svg\" alt=\"Open In Colab\"/></a>"
      ]
    },
    {
      "cell_type": "code",
      "metadata": {
        "id": "QTq_XNSkovUI"
      },
      "source": [
        ""
      ],
      "execution_count": null,
      "outputs": []
    },
    {
      "cell_type": "markdown",
      "metadata": {
        "id": "qGpE5LX0ov00"
      },
      "source": [
        "# **변수**\r\n",
        "변수에는 사용자가 만들어 낼수 있고, 특정한 값을 사용자가 대입할 수 있다.\r\n",
        "예를 들어 a라는 변수를 사용자가 만들고 a = 1 이라는 명령을 취한다면 a에는 1이라는 숫자가 대입되게 된다. 이때 \"=\"는 \"같다\"라는 의미가 아니라, 1을 a라는 변수에 대입한다는 의미이다.\r\n",
        "\r\n",
        "# **문법**\r\n",
        "if는 특정 조건 아래에서 코드가 실행되게 해준다.\r\n",
        "예를 들어서 if a = 1이라는 조건이 붙는다면 이 코드는 a의 변수가 1로 입력 될 때만 작동하게 된다.\r\n",
        "\r\n",
        "# **함수**\r\n",
        "함수는 반복적인 행위가 많은 코드의 경우 이를 미리 지정해서 사용할 수 있는 형태이다.\r\n",
        "예를 들어 내가 \"a,b의 합을 구하는 연산\"을 자주 사용할 시, 이를 매번 작성하는 것은 매우 힘들다. 그래서 함수라는 것을 지정하고 사용하여서 편하게 할 수 있도록 한다.\r\n",
        "\r\n"
      ]
    },
    {
      "cell_type": "code",
      "metadata": {
        "id": "ejY87JVppziB"
      },
      "source": [
        ""
      ],
      "execution_count": null,
      "outputs": []
    }
  ]
}